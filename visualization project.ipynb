{
 "cells": [
  {
   "cell_type": "code",
   "execution_count": null,
   "metadata": {
    "collapsed": true,
    "pycharm": {
     "name": "#%%\n"
    }
   },
   "outputs": [],
   "source": [
    "import pandas as pd\n",
    "import numpy as np\n",
    "import matplotlib as mpl\n",
    "import matplotlib.pyplot as plt\n",
    "from sklearn.preprocessing import MinMaxScaler\n",
    "from plotnine import *\n",
    "import streamlit as st\n",
    "import os"
   ]
  },
  {
   "cell_type": "code",
   "execution_count": null,
   "outputs": [],
   "source": [
    "df = pd.read_csv('./dog_breeds.csv')"
   ],
   "metadata": {
    "collapsed": false,
    "pycharm": {
     "name": "#%%\n"
    }
   }
  },
  {
   "cell_type": "code",
   "execution_count": null,
   "outputs": [],
   "source": [
    "print(df.shape)\n",
    "print(pd.unique(df.dtypes))\n",
    "nom_cols = df.select_dtypes(include=['object'])\n",
    "print(nom_cols.columns)\n",
    "nom_cols = df.select_dtypes(include=['int64', 'float64'])\n",
    "print(nom_cols.columns)\n",
    "nulls = df.select_dtypes(include=['int64', 'float64']).isna().sum()/df.shape[0]*100\n",
    "print(\"numeric NULL precentage: \\n\", nulls[nulls>0])\n",
    "nulls = df.select_dtypes(include=['object']).isna().sum()/df.shape[0]*100\n",
    "print(\"\\nnominal NULL precentage: \\n\", nulls[nulls>0])\n",
    "# find rows with more than 50% null values\n",
    "copy = df.copy()\n",
    "copy = copy.dropna(thresh=round(df.shape[0]/2))\n",
    "print(\"number of rows with more than 50% null values: \", copy.shape[0])\n"
   ],
   "metadata": {
    "collapsed": false,
    "pycharm": {
     "name": "#%%\n"
    }
   }
  },
  {
   "cell_type": "code",
   "execution_count": null,
   "outputs": [],
   "source": [
    "# create attributes\n",
    "df = df.drop(df[df['drooling'] == 0].index, inplace=False)\n",
    "attributes = pd.DataFrame()\n",
    "attributes['Maintenance'] = (df['shedding'] + df['grooming'] + df['drooling'] + df['trainability'] + df['barking']) / 5\n",
    "attributes['Friendliness'] = (df['good_with_children'] + df['good_with_other_dogs'] + df['good_with_strangers']) / 3\n",
    "attributes['Energy'] = (df['energy'] + df['playfulness']) / 2\n",
    "attributes['life_expectancy'] = (df['max_life_expectancy'] + df['min_life_expectancy']) / 2\n",
    "attributes['Protectiveness'] = df['protectiveness']\n",
    "\n",
    "temp = pd.DataFrame()\n",
    "temp['height'] = ((df['max_height_male'] + df['min_height_male']) / 2 + (df['max_height_female'] + df['min_height_female']) / 2) / 2\n",
    "temp['weight'] = ((df['max_weight_male'] + df['min_weight_male']) / 2 + (df['max_weight_female'] + df['min_weight_female']) / 2) / 2\n",
    "temp['coat_length'] = df['coat_length']\n",
    "scaler = MinMaxScaler()\n",
    "temp[['height', 'weight', 'coat_length']] = (scaler.fit_transform(temp[['height', 'weight', 'coat_length']]) * 4) + 1\n",
    "\n",
    "attributes['Appearance'] = (temp['height'] + temp['weight'] + temp['coat_length']) / 3\n",
    "\n",
    "######## dooooooonnnnneee"
   ],
   "metadata": {
    "collapsed": false,
    "pycharm": {
     "name": "#%%\n"
    }
   }
  },
  {
   "cell_type": "code",
   "execution_count": null,
   "outputs": [],
   "source": [
    "# Set up the dog breed pictures directory\n",
    "img_dir = \"./dog_pics\"\n",
    "\n",
    "# Define the available attributes\n",
    "attribute_names = ['Maintenance', 'Friendliness', 'Energy', 'Life Expectancy', 'Protectiveness', 'Appearance']\n",
    "\n",
    "# Define the attribute range for filtering\n",
    "attribute_ranges = {\n",
    "    'Maintenance': [1, 5],\n",
    "    'Friendliness': [1, 5],\n",
    "    'Energy': [1, 5],\n",
    "    'Life Expectancy': [1, 5],\n",
    "    'Protectiveness': [1, 5],\n",
    "    'Appearance': [1, 5]\n",
    "}\n",
    "\n",
    "# Filter breeds based on attribute thresholds\n",
    "def filter_breeds(data, attribute_filters):\n",
    "    mask = (data >= attribute_filters[:, 0]) & (data <= attribute_filters[:, 1])\n",
    "    return data[mask.all(axis=1)]\n",
    "\n",
    "# Sidebar - Breed Selection\n",
    "st.sidebar.title(\"Dog Breed Selection\")\n",
    "\n",
    "# Display the dog breed table\n",
    "st.sidebar.subheader(\"Dog Breed Table\")\n",
    "breed_selected = st.sidebar.selectbox(\"Select a breed\", df['Name'])\n",
    "\n",
    "# Display the selected breed image\n",
    "image_path = os.path.join(img_dir, breed_selected + \".png\")\n",
    "if os.path.exists(image_path):\n",
    "    st.sidebar.image(image_path, use_column_width=True)\n",
    "else:\n",
    "    st.sidebar.info(\"Image not found for selected breed.\")\n",
    "\n",
    "# Sidebar - Attribute Filters\n",
    "st.sidebar.subheader(\"Attribute Filters\")\n",
    "\n",
    "# Initialize attribute filters\n",
    "attribute_filters = {}\n",
    "for attribute in attribute_names:\n",
    "    min_val, max_val = attribute_ranges[attribute]\n",
    "    attribute_filters[attribute] = st.sidebar.slider(attribute, min_val, max_val, [min_val, max_val])\n",
    "\n",
    "# Apply filters and get the filtered breeds\n",
    "filtered_breeds = filter_breeds(attributes, list(attribute_filters.values()))\n",
    "\n",
    "# Main page - Spyder plot and enlarged image\n",
    "st.title(\"Dog Breed Selection System\")\n",
    "\n",
    "# Display the spyder plot\n",
    "st.subheader(\"Dog Breed Attributes\")\n",
    "fig, ax = plt.subplots()\n",
    "for breed in filtered_breeds.index:\n",
    "    breed_attributes = attributes.loc[breed]\n",
    "    breed_attributes = breed_attributes.append(breed_attributes[:1])  # Complete the loop\n",
    "    ax.plot(breed_attributes.values, marker='o', label=breed)\n",
    "ax.set_xticks(range(len(attribute_names)))\n",
    "ax.set_xticklabels(attribute_names)\n",
    "ax.legend(loc='upper right')\n",
    "st.pyplot(fig)\n",
    "\n",
    "# Display the enlarged image of the selected breed\n",
    "st.subheader(\"Selected Breed Image\")\n",
    "if os.path.exists(image_path):\n",
    "    st.image(image_path, use_column_width=True)\n",
    "else:\n",
    "    st.info(\"Image not found for selected breed.\")\n",
    "\n",
    "# Separate page for attribute filtering\n",
    "st.title(\"Dog Breed Attribute Filtering\")\n",
    "\n",
    "# Display a separate page with tabs for each attribute\n",
    "for attribute in attribute_names:\n",
    "    st.subheader(attribute)\n",
    "    filtered_breeds = filter_breeds(attributes, [attribute_filters[attribute]])\n",
    "    filtered_breeds_names = filtered_breeds.index\n",
    "    st.write(filtered_breeds_names)\n",
    "\n",
    "# Page for breed comparison\n",
    "st.title(\"Breed Comparison\")\n",
    "\n",
    "# Display the stacked bar plot for the filtered breeds\n",
    "st.subheader(\"Filtered Dog Breeds Comparison\")\n",
    "fig, ax = plt.subplots()\n",
    "filtered_breed_attributes = attributes.loc[filtered_breeds_names]\n",
    "filtered_breed_attributes.plot(kind='bar', stacked=True, ax=ax)\n",
    "ax.set_xticklabels(filtered_breeds_names, rotation=45)\n",
    "st.pyplot(fig)\n",
    "\n",
    "# Display breed names and pictures above the graph\n",
    "st.subheader(\"Filtered Dog Breeds\")\n",
    "for breed in filtered_breeds_names:\n",
    "    breed_image_path = os.path.join(img_dir, breed + \".png\")\n",
    "    if os.path.exists(breed_image_path):\n",
    "        st.image(breed_image_path, caption=breed, width=100)\n",
    "    else:\n",
    "        st.write(breed)"
   ],
   "metadata": {
    "collapsed": false,
    "pycharm": {
     "name": "#%%\n"
    }
   }
  }
 ],
 "metadata": {
  "kernelspec": {
   "display_name": "Python 3",
   "language": "python",
   "name": "python3"
  },
  "language_info": {
   "codemirror_mode": {
    "name": "ipython",
    "version": 2
   },
   "file_extension": ".py",
   "mimetype": "text/x-python",
   "name": "python",
   "nbconvert_exporter": "python",
   "pygments_lexer": "ipython2",
   "version": "2.7.6"
  }
 },
 "nbformat": 4,
 "nbformat_minor": 0
}